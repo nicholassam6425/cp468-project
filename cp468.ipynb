{
 "cells": [
  {
   "cell_type": "code",
   "execution_count": null,
   "id": "90a70ea0",
   "metadata": {},
   "outputs": [],
   "source": [
    "import tensorflow as tf\n",
    "import numpy as np\n",
    "import pandas as pd\n",
    "import matplotlib.pyplot as plt\n",
    "import glob\n",
    "import re\n",
    "from tensorflow.keras import datasets, layers, models\n",
    "from keras.preprocessing.image import ImageDataGenerator\n",
    "from sklearn.model_selection import train_test_split\n",
    "import cv2\n",
    "import warnings\n",
    "from keras.applications.mobilenet_v2 import preprocess_input, decode_predictions"
   ]
  },
  {
   "cell_type": "code",
   "execution_count": null,
   "id": "b253130e",
   "metadata": {},
   "outputs": [],
   "source": [
    "warnings.filterwarnings('once')"
   ]
  },
  {
   "cell_type": "code",
   "execution_count": null,
   "id": "b4d6243b",
   "metadata": {},
   "outputs": [],
   "source": [
    "filelist_c = glob.glob('input/china_xrays/*.png')\n",
    "filelist_m = glob.glob('input/montgomery_xrays/*.png')\n",
    "filelist = filelist_c + filelist_m"
   ]
  },
  {
   "cell_type": "code",
   "execution_count": null,
   "id": "fcefa23f",
   "metadata": {},
   "outputs": [],
   "source": [
    "labels = []\n",
    "for file in filelist:\n",
    "    #regex to find target\n",
    "    #[0-9]{4} is the initial 4 numbers after the first underscore, (.+?) to find whatever is between \"####_\" and \".png\"\n",
    "    current_label = re.findall('[0-9]{4}_(.+?).png', file)\n",
    "    labels.append(current_label[0])"
   ]
  },
  {
   "cell_type": "code",
   "execution_count": null,
   "id": "fa4b36cb",
   "metadata": {},
   "outputs": [],
   "source": [
    "df = pd.DataFrame(filelist, columns=['file'])\n",
    "df['target'] = labels\n",
    "df.head()\n",
    "targetdf = pd.DataFrame(df.pop('target'), columns=['target'])"
   ]
  },
  {
   "cell_type": "code",
   "execution_count": null,
   "id": "96205854",
   "metadata": {},
   "outputs": [],
   "source": [
    "traindf, testdf, ytrain, ytest = train_test_split(df, targetdf, stratify=targetdf, test_size=0.1)\n",
    "traindf['target'] = ytrain\n",
    "testdf['target'] = ytest\n",
    "traindf, valdf, ytrain, yval = train_test_split(traindf, traindf['target'], stratify = traindf['target'], test_size = 0.1)\n",
    "valdf['target']=yval"
   ]
  },
  {
   "cell_type": "code",
   "execution_count": null,
   "id": "a8b3c84b",
   "metadata": {},
   "outputs": [],
   "source": [
    "train_generator = ImageDataGenerator(rescale = 1./255, horizontal_flip = True, zoom_range = 0.1, shear_range = 0, rotation_range = 5, width_shift_range = 0.05, height_shift_range = 0.05, fill_mode = 'constant', cval = 0, preprocessing_function = preprocess_input)\n",
    "test_generator = ImageDataGenerator(rescale = 1./255, preprocessing_function = preprocess_input)"
   ]
  },
  {
   "cell_type": "code",
   "execution_count": null,
   "id": "7cd63d2e",
   "metadata": {},
   "outputs": [],
   "source": [
    "train = train_generator.flow_from_dataframe(dataframe = traindf, class_mode = 'binary', x_col = 'file', y_col = 'target', shuffle = True, batch_size = 32, target_size = (224,224))\n",
    "val = train_generator.flow_from_dataframe(dataframe = valdf, class_mode = 'binary', x_col = 'file', y_col = 'target', shuffle = True, batch_size = 32, target_size = (224,224))"
   ]
  },
  {
   "cell_type": "code",
   "execution_count": null,
   "id": "08c7fcfa",
   "metadata": {},
   "outputs": [],
   "source": [
    "model = models.Sequential()\n",
    "model.add(tf.keras.applications.MobileNetV2(weights='imagenet', input_shape = (224,224,3), include_top=False))\n",
    "model.add(layers.GlobalMaxPooling2D())\n",
    "model.add(layers.Dense(32, activation='relu'))\n",
    "model.add(layers.Dropout(0.5))\n",
    "model.add(layers.Dense(1, activation='sigmoid'))\n",
    "model.summary()"
   ]
  },
  {
   "cell_type": "code",
   "execution_count": null,
   "id": "3650a4d7",
   "metadata": {},
   "outputs": [],
   "source": [
    "model.compile(optimizer='adam', \n",
    "              loss='binary_crossentropy',\n",
    "              metrics=['acc',tf.keras.metrics.Recall()])"
   ]
  },
  {
   "cell_type": "code",
   "execution_count": null,
   "id": "36703d06",
   "metadata": {},
   "outputs": [],
   "source": [
    "model.fit(train, epochs=10, steps_per_epoch=train.samples//32, verbose=1, validation_data=val, validation_steps=val.samples//32)\n"
   ]
  }
 ],
 "metadata": {
  "kernelspec": {
   "display_name": "Python 3.10.4 64-bit",
   "language": "python",
   "name": "python3"
  },
  "language_info": {
   "codemirror_mode": {
    "name": "ipython",
    "version": 3
   },
   "file_extension": ".py",
   "mimetype": "text/x-python",
   "name": "python",
   "nbconvert_exporter": "python",
   "pygments_lexer": "ipython3",
   "version": "3.10.4"
  },
  "vscode": {
   "interpreter": {
    "hash": "c5af2fb5c306288d0d3f59d5419b468560f5c21767367fdcab1123d24cf107a9"
   }
  }
 },
 "nbformat": 4,
 "nbformat_minor": 5
}
