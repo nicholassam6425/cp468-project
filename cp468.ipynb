{
 "cells": [
  {
   "cell_type": "code",
   "execution_count": 1,
   "id": "90a70ea0",
   "metadata": {},
   "outputs": [],
   "source": [
    "import tensorflow as tf\n",
    "import numpy as np\n",
    "import pandas as pd\n",
    "import matplotlib.pyplot as plt\n",
    "import glob\n",
    "import re\n",
    "from tensorflow.keras import datasets, layers, models\n",
    "from keras.preprocessing.image import ImageDataGenerator\n",
    "from sklearn.model_selection import train_test_split\n",
    "import cv2\n",
    "import warnings\n",
    "from keras.applications.mobilenet_v2 import preprocess_input"
   ]
  },
  {
   "cell_type": "code",
   "execution_count": 2,
   "id": "c895e8fd",
   "metadata": {},
   "outputs": [],
   "source": [
    "#if you dont have tensorflow-gpu, comment this out/dont run this cell\n",
    "a = tf.config.list_physical_devices('GPU')\n",
    "tf.config.experimental.set_memory_growth(a[0], True)"
   ]
  },
  {
   "cell_type": "code",
   "execution_count": 3,
   "id": "b253130e",
   "metadata": {},
   "outputs": [],
   "source": [
    "#ignore duplicate warnings\n",
    "warnings.filterwarnings('ignore')"
   ]
  },
  {
   "cell_type": "code",
   "execution_count": 4,
   "id": "076847e9",
   "metadata": {},
   "outputs": [],
   "source": [
    "#Reduce if you get Out of Resources error, increase if your computer slows to a halt\n",
    "BATCH_SIZE = 4"
   ]
  },
  {
   "cell_type": "code",
   "execution_count": 5,
   "id": "b4d6243b",
   "metadata": {},
   "outputs": [],
   "source": [
    "#find the file names of all the xray images\n",
    "filelist_c = glob.glob('input/china_xrays/*.png')\n",
    "filelist_m = glob.glob('input/montgomery_xrays/*.png')\n",
    "filelist = filelist_c + filelist_m"
   ]
  },
  {
   "cell_type": "code",
   "execution_count": 6,
   "id": "fcefa23f",
   "metadata": {},
   "outputs": [],
   "source": [
    "#using regex, find the target feature of each image\n",
    "labels = []\n",
    "for file in filelist:\n",
    "    #regex to find target\n",
    "    #[0-9]{4} is the initial 4 numbers after the first underscore, (.+?) to find whatever is between \"####_\" and \".png\"\n",
    "    current_label = re.findall('[0-9]{4}_(.+?).png', file)\n",
    "    labels.append(current_label[0])"
   ]
  },
  {
   "cell_type": "code",
   "execution_count": 8,
   "id": "fa4b36cb",
   "metadata": {},
   "outputs": [],
   "source": [
    "#make dataframe of all the data\n",
    "df = pd.DataFrame(filelist, columns=['file'])\n",
    "df['target'] = labels"
   ]
  },
  {
   "cell_type": "code",
   "execution_count": 9,
   "id": "96205854",
   "metadata": {},
   "outputs": [
    {
     "name": "stdout",
     "output_type": "stream",
     "text": [
      "                                    file target\n",
      "51   input/china_xrays\\CHNCXR_0052_0.png      0\n",
      "186  input/china_xrays\\CHNCXR_0187_0.png      0\n",
      "166  input/china_xrays\\CHNCXR_0167_0.png      0\n",
      "540  input/china_xrays\\CHNCXR_0541_1.png      1\n",
      "191  input/china_xrays\\CHNCXR_0192_0.png      0\n",
      "..                                   ...    ...\n",
      "604  input/china_xrays\\CHNCXR_0605_1.png      1\n",
      "440  input/china_xrays\\CHNCXR_0441_1.png      1\n",
      "231  input/china_xrays\\CHNCXR_0232_0.png      0\n",
      "522  input/china_xrays\\CHNCXR_0523_1.png      1\n",
      "25   input/china_xrays\\CHNCXR_0026_0.png      0\n",
      "\n",
      "[720 rows x 2 columns]\n"
     ]
    }
   ],
   "source": [
    "valdf = pd.DataFrame()\n",
    "#split original dataframe of all data into a testing dataframe and a training dataframe\n",
    "fulltraindf, testdf = train_test_split(df, stratify = df['target'], test_size=0.1)\n",
    "print(fulltraindf)\n",
    "def makedfs(fulltraindf=fulltraindf):\n",
    "    #split training dataframe into training dataframe and validation dataframe\n",
    "    traindf, valdf = train_test_split(fulltraindf, stratify = fulltraindf['target'], test_size = 0.1)\n",
    "    return traindf, valdf\n",
    "traindf, valdf = makedfs(fulltraindf)"
   ]
  },
  {
   "cell_type": "code",
   "execution_count": 9,
   "id": "87bacdd3",
   "metadata": {},
   "outputs": [
    {
     "name": "stdout",
     "output_type": "stream",
     "text": [
      "                                         file target\n",
      "273       input/china_xrays\\CHNCXR_0274_0.png      0\n",
      "477       input/china_xrays\\CHNCXR_0478_1.png      1\n",
      "418       input/china_xrays\\CHNCXR_0419_1.png      1\n",
      "27        input/china_xrays\\CHNCXR_0028_0.png      0\n",
      "34        input/china_xrays\\CHNCXR_0035_0.png      0\n",
      "..                                        ...    ...\n",
      "59        input/china_xrays\\CHNCXR_0060_0.png      0\n",
      "457       input/china_xrays\\CHNCXR_0458_1.png      1\n",
      "278       input/china_xrays\\CHNCXR_0279_0.png      0\n",
      "380       input/china_xrays\\CHNCXR_0381_1.png      1\n",
      "698  input/montgomery_xrays\\MCUCXR_0051_0.png      0\n",
      "\n",
      "[648 rows x 2 columns]\n",
      "                                         file target\n",
      "508       input/china_xrays\\CHNCXR_0509_1.png      1\n",
      "573       input/china_xrays\\CHNCXR_0574_1.png      1\n",
      "449       input/china_xrays\\CHNCXR_0450_1.png      1\n",
      "522       input/china_xrays\\CHNCXR_0523_1.png      1\n",
      "76        input/china_xrays\\CHNCXR_0077_0.png      0\n",
      "..                                        ...    ...\n",
      "504       input/china_xrays\\CHNCXR_0505_1.png      1\n",
      "96        input/china_xrays\\CHNCXR_0097_0.png      0\n",
      "661       input/china_xrays\\CHNCXR_0662_1.png      1\n",
      "721  input/montgomery_xrays\\MCUCXR_0080_0.png      0\n",
      "409       input/china_xrays\\CHNCXR_0410_1.png      1\n",
      "\n",
      "[80 rows x 2 columns]\n",
      "                                         file target\n",
      "776  input/montgomery_xrays\\MCUCXR_0289_1.png      1\n",
      "22        input/china_xrays\\CHNCXR_0023_0.png      0\n",
      "592       input/china_xrays\\CHNCXR_0593_1.png      1\n",
      "733  input/montgomery_xrays\\MCUCXR_0094_0.png      0\n",
      "734  input/montgomery_xrays\\MCUCXR_0095_0.png      0\n",
      "..                                        ...    ...\n",
      "411       input/china_xrays\\CHNCXR_0412_1.png      1\n",
      "358       input/china_xrays\\CHNCXR_0359_1.png      1\n",
      "798  input/montgomery_xrays\\MCUCXR_0393_1.png      1\n",
      "543       input/china_xrays\\CHNCXR_0544_1.png      1\n",
      "571       input/china_xrays\\CHNCXR_0572_1.png      1\n",
      "\n",
      "[72 rows x 2 columns]\n"
     ]
    }
   ],
   "source": [
    "makedfs(fulltraindf)\n",
    "print(traindf)\n",
    "print(testdf)\n",
    "print(valdf)"
   ]
  },
  {
   "cell_type": "code",
   "execution_count": 10,
   "id": "a8b3c84b",
   "metadata": {},
   "outputs": [],
   "source": [
    "#initialize imagedatagenerators. added some rotation, width/height shift, shear and zoom to help with overfitting\n",
    "train_generator = ImageDataGenerator(rescale=1./255,\n",
    "                                    horizontal_flip = True, \n",
    "                                    fill_mode = 'nearest', \n",
    "                                    cval = 0,\n",
    "                                    rotation_range=0.05,\n",
    "                                    width_shift_range=0.05,\n",
    "                                    height_shift_range=0.05,\n",
    "                                    shear_range=0.05,\n",
    "                                    zoom_range=0.05)\n",
    "                                    \n",
    "test_generator = ImageDataGenerator(rescale=1./255)"
   ]
  },
  {
   "cell_type": "code",
   "execution_count": 11,
   "id": "7cd63d2e",
   "metadata": {},
   "outputs": [
    {
     "name": "stdout",
     "output_type": "stream",
     "text": [
      "Found 648 validated image filenames belonging to 2 classes.\n",
      "Found 72 validated image filenames belonging to 2 classes.\n"
     ]
    }
   ],
   "source": [
    "#create dataframeiterators for the model to train off of\n",
    "train = train_generator.flow_from_dataframe(dataframe = traindf, class_mode = 'binary', x_col = 'file', y_col = 'target', shuffle = True, batch_size = BATCH_SIZE, target_size = (224,224), color_mode='grayscale')\n",
    "val = train_generator.flow_from_dataframe(dataframe = valdf, class_mode = 'binary', x_col = 'file', y_col = 'target', shuffle = True, batch_size = BATCH_SIZE, target_size = (224,224), color_mode='grayscale')"
   ]
  },
  {
   "cell_type": "code",
   "execution_count": 12,
   "id": "08c7fcfa",
   "metadata": {},
   "outputs": [
    {
     "name": "stdout",
     "output_type": "stream",
     "text": [
      "Model: \"sequential\"\n",
      "_________________________________________________________________\n",
      " Layer (type)                Output Shape              Param #   \n",
      "=================================================================\n",
      " conv2d (Conv2D)             (None, 222, 222, 8)       80        \n",
      "                                                                 \n",
      " max_pooling2d (MaxPooling2D  (None, 111, 111, 8)      0         \n",
      " )                                                               \n",
      "                                                                 \n",
      " conv2d_1 (Conv2D)           (None, 109, 109, 16)      1168      \n",
      "                                                                 \n",
      " max_pooling2d_1 (MaxPooling  (None, 54, 54, 16)       0         \n",
      " 2D)                                                             \n",
      "                                                                 \n",
      " conv2d_2 (Conv2D)           (None, 52, 52, 32)        4640      \n",
      "                                                                 \n",
      " max_pooling2d_2 (MaxPooling  (None, 26, 26, 32)       0         \n",
      " 2D)                                                             \n",
      "                                                                 \n",
      " conv2d_3 (Conv2D)           (None, 24, 24, 64)        18496     \n",
      "                                                                 \n",
      " max_pooling2d_3 (MaxPooling  (None, 12, 12, 64)       0         \n",
      " 2D)                                                             \n",
      "                                                                 \n",
      " conv2d_4 (Conv2D)           (None, 10, 10, 128)       73856     \n",
      "                                                                 \n",
      " flatten (Flatten)           (None, 12800)             0         \n",
      "                                                                 \n",
      " layer_normalization (LayerN  (None, 12800)            25600     \n",
      " ormalization)                                                   \n",
      "                                                                 \n",
      " dense (Dense)               (None, 32)                409632    \n",
      "                                                                 \n",
      " dropout (Dropout)           (None, 32)                0         \n",
      "                                                                 \n",
      " layer_normalization_1 (Laye  (None, 32)               64        \n",
      " rNormalization)                                                 \n",
      "                                                                 \n",
      " dense_1 (Dense)             (None, 1)                 33        \n",
      "                                                                 \n",
      "=================================================================\n",
      "Total params: 533,569\n",
      "Trainable params: 533,569\n",
      "Non-trainable params: 0\n",
      "_________________________________________________________________\n"
     ]
    }
   ],
   "source": [
    "#create & populate model\n",
    "model = models.Sequential()\n",
    "model.add(layers.Conv2D(8, (3,3), input_shape=(224,224,1)))\n",
    "model.add(layers.MaxPool2D(2,2))\n",
    "model.add(layers.Conv2D(16, (3,3), activation='relu'))\n",
    "model.add(layers.MaxPool2D(2,2))\n",
    "model.add(layers.Conv2D(32, (3,3), activation='relu'))\n",
    "model.add(layers.MaxPool2D(2,2))\n",
    "model.add(layers.Conv2D(64, (3,3), activation='relu'))\n",
    "model.add(layers.MaxPool2D(2,2))\n",
    "model.add(layers.Conv2D(128, (3,3), activation='relu'))\n",
    "model.add(layers.Flatten())\n",
    "model.add(layers.LayerNormalization())\n",
    "model.add(layers.Dense(32, activation='relu', kernel_initializer=tf.keras.initializers.HeNormal()))\n",
    "model.add(layers.Dropout(0.1))\n",
    "model.add(layers.LayerNormalization())\n",
    "model.add(layers.Dense(1, activation='sigmoid'))\n",
    "model.summary()"
   ]
  },
  {
   "cell_type": "code",
   "execution_count": 13,
   "id": "3650a4d7",
   "metadata": {},
   "outputs": [],
   "source": [
    "#compile model with learning loss decay. loss function = binary because output is binary.\n",
    "model.compile(optimizer=tf.keras.optimizers.Adam(tf.keras.optimizers.schedules.InverseTimeDecay(0.00001,decay_steps=train.samples//BATCH_SIZE,decay_rate=0.5,staircase=False)), \n",
    "              loss='binary_crossentropy',\n",
    "              metrics=['acc',tf.keras.metrics.Recall()])"
   ]
  },
  {
   "cell_type": "code",
   "execution_count": null,
   "id": "1b320386",
   "metadata": {},
   "outputs": [],
   "source": [
    "#skip this cell if you want, its just to validate output of imagedatagenerators\n",
    "image, label = val.next()\n",
    "plt.imshow(image[0],cmap='gray')\n",
    "#print(max(image[0]))\n",
    "#print(min(image[0]))"
   ]
  },
  {
   "cell_type": "code",
   "execution_count": 14,
   "id": "27a772fe",
   "metadata": {},
   "outputs": [],
   "source": [
    "class shuffle_on_epoch(tf.keras.callbacks.Callback):\n",
    "    def on_epoch_end(self, epoch, logs=None):\n",
    "        makedfs()"
   ]
  },
  {
   "cell_type": "code",
   "execution_count": 22,
   "id": "36703d06",
   "metadata": {},
   "outputs": [
    {
     "name": "stdout",
     "output_type": "stream",
     "text": [
      "Epoch 1/25\n",
      "162/162 [==============================] - 69s 427ms/step - loss: 0.5455 - acc: 0.7377 - recall: 0.7375 - val_loss: 0.5759 - val_acc: 0.7500 - val_recall: 0.8000\n",
      "Epoch 2/25\n",
      "162/162 [==============================] - 74s 457ms/step - loss: 0.5159 - acc: 0.7485 - recall: 0.7375 - val_loss: 0.5313 - val_acc: 0.7361 - val_recall: 0.6571\n",
      "Epoch 3/25\n",
      "162/162 [==============================] - 67s 417ms/step - loss: 0.5131 - acc: 0.7562 - recall: 0.7406 - val_loss: 0.5262 - val_acc: 0.7222 - val_recall: 0.6857\n",
      "Epoch 4/25\n",
      "162/162 [==============================] - 67s 414ms/step - loss: 0.5236 - acc: 0.7623 - recall: 0.7625 - val_loss: 0.5116 - val_acc: 0.7917 - val_recall: 0.7429\n",
      "Epoch 5/25\n",
      "162/162 [==============================] - 67s 415ms/step - loss: 0.5264 - acc: 0.7562 - recall: 0.7437 - val_loss: 0.5561 - val_acc: 0.7361 - val_recall: 0.6857\n",
      "Epoch 6/25\n",
      "162/162 [==============================] - 67s 416ms/step - loss: 0.5344 - acc: 0.7469 - recall: 0.7094 - val_loss: 0.4864 - val_acc: 0.7778 - val_recall: 0.8571\n",
      "Epoch 7/25\n",
      "162/162 [==============================] - 67s 414ms/step - loss: 0.5281 - acc: 0.7284 - recall: 0.6969 - val_loss: 0.5097 - val_acc: 0.7639 - val_recall: 0.8286\n",
      "Epoch 8/25\n",
      "162/162 [==============================] - 67s 416ms/step - loss: 0.5070 - acc: 0.7670 - recall: 0.7437 - val_loss: 0.4732 - val_acc: 0.7917 - val_recall: 0.7714\n",
      "Epoch 9/25\n",
      "162/162 [==============================] - 67s 414ms/step - loss: 0.5063 - acc: 0.7670 - recall: 0.7531 - val_loss: 0.4687 - val_acc: 0.7500 - val_recall: 0.6857\n",
      "Epoch 10/25\n",
      "162/162 [==============================] - 66s 410ms/step - loss: 0.5068 - acc: 0.7593 - recall: 0.7563 - val_loss: 0.5433 - val_acc: 0.7500 - val_recall: 0.6857\n",
      "Epoch 11/25\n",
      "162/162 [==============================] - 66s 411ms/step - loss: 0.5149 - acc: 0.7562 - recall: 0.7250 - val_loss: 0.5058 - val_acc: 0.7639 - val_recall: 0.7429\n",
      "Epoch 12/25\n",
      "162/162 [==============================] - 66s 408ms/step - loss: 0.4976 - acc: 0.7670 - recall: 0.7594 - val_loss: 0.5170 - val_acc: 0.7917 - val_recall: 0.8000\n",
      "Epoch 13/25\n",
      "162/162 [==============================] - 66s 409ms/step - loss: 0.5075 - acc: 0.7454 - recall: 0.7406 - val_loss: 0.5195 - val_acc: 0.7917 - val_recall: 0.8000\n",
      "Epoch 14/25\n",
      "162/162 [==============================] - 66s 411ms/step - loss: 0.5217 - acc: 0.7670 - recall: 0.7312 - val_loss: 0.4925 - val_acc: 0.7917 - val_recall: 0.8000\n"
     ]
    }
   ],
   "source": [
    "#train model\n",
    "hist = model.fit(train, epochs=25, steps_per_epoch=train.samples//BATCH_SIZE, verbose=1, validation_data=val, validation_steps=val.samples//BATCH_SIZE,callbacks=[shuffle_on_epoch(), tf.keras.callbacks.EarlyStopping(patience=5, restore_best_weights=True)])"
   ]
  },
  {
   "cell_type": "code",
   "execution_count": null,
   "id": "a42119b5",
   "metadata": {},
   "outputs": [],
   "source": [
    "#evaluate model with test dataframe\n",
    "test = test_generator.flow_from_dataframe(dataframe = testdf, class_mode='binary', x_col='file', y_col='target',shuffle=False, batch_size=BATCH_SIZE,target_size=(224,224))\n",
    "test_loss, test_acc, test_recall = model.evaluate(test, batch_size=BATCH_SIZE)"
   ]
  },
  {
   "cell_type": "code",
   "execution_count": 32,
   "id": "a840d05c",
   "metadata": {},
   "outputs": [
    {
     "data": {
      "image/png": "[encoded data removed]",
      "text/plain": [
       "<Figure size 864x288 with 1 Axes>"
      ]
     },
     "metadata": {
      "needs_background": "light"
     },
     "output_type": "display_data"
    }
   ],
   "source": [
    "fig  = plt.figure(figsize=(12,4))\n",
    "plt.title('Loss')\n",
    "plt.plot(hist.history['loss'])\n",
    "plt.plot(hist.history['val_loss'])\n",
    "plt.ylim([0.4,0.65])\n",
    "plt.legend(['Train', 'Validation'], loc='lower right')\n",
    "plt.show()"
   ]
  },
  {
   "cell_type": "code",
   "execution_count": 33,
   "id": "f3cd0082",
   "metadata": {},
   "outputs": [
    {
     "data": {
      "image/png": "[encoded data removed]",
      "text/plain": [
       "<Figure size 864x288 with 1 Axes>"
      ]
     },
     "metadata": {
      "needs_background": "light"
     },
     "output_type": "display_data"
    }
   ],
   "source": [
    "fig  = plt.figure(figsize=(12,4))\n",
    "plt.title('Accuracy')\n",
    "plt.plot(hist.history['acc'])\n",
    "plt.plot(hist.history['val_acc'])\n",
    "plt.ylim([0.65,0.85])\n",
    "plt.legend(['Train', 'Validation'], loc='lower right')\n",
    "plt.show()"
   ]
  },
  {
   "cell_type": "code",
   "execution_count": 34,
   "id": "30dd2ac5",
   "metadata": {},
   "outputs": [
    {
     "data": {
      "image/png": "[encoded data removed]",
      "text/plain": [
       "<Figure size 864x288 with 1 Axes>"
      ]
     },
     "metadata": {
      "needs_background": "light"
     },
     "output_type": "display_data"
    }
   ],
   "source": [
    "fig  = plt.figure(figsize=(12,4))\n",
    "plt.title('Recall')\n",
    "plt.plot(hist.history['recall'])\n",
    "plt.plot(hist.history['val_recall'])\n",
    "plt.ylim([0.6,0.9])\n",
    "plt.legend(['Train', 'Validation'], loc='lower right')\n",
    "plt.show()"
   ]
  }
 ],
 "metadata": {
  "kernelspec": {
   "display_name": "Python 3.10.4 64-bit",
   "language": "python",
   "name": "python3"
  },
  "language_info": {
   "codemirror_mode": {
    "name": "ipython",
    "version": 3
   },
   "file_extension": ".py",
   "mimetype": "text/x-python",
   "name": "python",
   "nbconvert_exporter": "python",
   "pygments_lexer": "ipython3",
   "version": "3.10.4"
  },
  "vscode": {
   "interpreter": {
    "hash": "c5af2fb5c306288d0d3f59d5419b468560f5c21767367fdcab1123d24cf107a9"
   }
  }
 },
 "nbformat": 4,
 "nbformat_minor": 5
}
